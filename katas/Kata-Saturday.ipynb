{
 "cells": [
  {
   "cell_type": "code",
   "execution_count": 11,
   "metadata": {},
   "outputs": [],
   "source": [
    "def pinpoint_virus(apple):\n",
    "    ROWS = len(apple)\n",
    "    COLS = len(apple[0])\n",
    "    return [[row, col] for row in range(ROWS) for col in range(COLS) if apple[row][col] == \"V\"]"
   ]
  },
  {
   "cell_type": "code",
   "execution_count": 12,
   "metadata": {},
   "outputs": [],
   "source": [
    "def infection(o, max_row, max_col):\n",
    "    strain = [[o[0], o[1] -1], [o[0], o[1] +1], [o[0]-1, o[1]], [o[0]+1, o[1]]]\n",
    "    [strain.remove(i) for i in strain[::-1] if i[0] < 0 or i[0] > max_row-1 or i[1] < 0 or i[1] > max_col-1]\n",
    "    return strain"
   ]
  },
  {
   "cell_type": "code",
   "execution_count": 13,
   "metadata": {},
   "outputs": [],
   "source": [
    "def infect_apple(apple, n):\n",
    "    ROWS = len(apple)\n",
    "    COLS = len(apple[0])\n",
    "    \n",
    "    for i in range(n):\n",
    "        # New strain\n",
    "        virus = pinpoint_virus(apple)\n",
    "        new_strain = [i for v in virus for i in infection(v, ROWS, COLS)]\n",
    "        # Apple modification\n",
    "        for row in range(ROWS):\n",
    "            for col in range(COLS):\n",
    "                if [row,col] in new_strain:\n",
    "                    apple[row][col] = \"V\"\n",
    "    return apple"
   ]
  },
  {
   "cell_type": "code",
   "execution_count": 14,
   "metadata": {},
   "outputs": [],
   "source": [
    "apple=[[\"A\",\"A\",\"A\",\"A\",\"A\"],\n",
    "       [\"V\",\"A\",\"A\",\"A\",\"A\"],\n",
    "       [\"A\",\"A\",\"A\",\"A\",\"A\"],\n",
    "       [\"A\",\"A\",\"A\",\"A\",\"A\"],\n",
    "       [\"A\",\"A\",\"A\",\"A\",\"A\"]]"
   ]
  },
  {
   "cell_type": "code",
   "execution_count": 16,
   "metadata": {},
   "outputs": [
    {
     "data": {
      "text/plain": [
       "[['V', 'V', 'V', 'A', 'A'],\n",
       " ['V', 'V', 'V', 'V', 'A'],\n",
       " ['V', 'V', 'V', 'A', 'A'],\n",
       " ['V', 'V', 'A', 'A', 'A'],\n",
       " ['V', 'A', 'A', 'A', 'A']]"
      ]
     },
     "execution_count": 16,
     "metadata": {},
     "output_type": "execute_result"
    }
   ],
   "source": [
    "infect_apple(apple, 2)"
   ]
  },
  {
   "cell_type": "code",
   "execution_count": null,
   "metadata": {},
   "outputs": [],
   "source": []
  }
 ],
 "metadata": {
  "kernelspec": {
   "display_name": "Python [conda env:ironhack_env]",
   "language": "python",
   "name": "conda-env-ironhack_env-py"
  },
  "language_info": {
   "codemirror_mode": {
    "name": "ipython",
    "version": 3
   },
   "file_extension": ".py",
   "mimetype": "text/x-python",
   "name": "python",
   "nbconvert_exporter": "python",
   "pygments_lexer": "ipython3",
   "version": "3.8.5"
  }
 },
 "nbformat": 4,
 "nbformat_minor": 4
}
