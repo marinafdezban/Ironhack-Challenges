{
 "cells": [
  {
   "cell_type": "markdown",
   "metadata": {},
   "source": [
    "Challenge 1"
   ]
  },
  {
   "cell_type": "code",
   "execution_count": 1,
   "metadata": {},
   "outputs": [],
   "source": [
    "import re"
   ]
  },
  {
   "cell_type": "code",
   "execution_count": 2,
   "metadata": {},
   "outputs": [],
   "source": [
    "url_1 = \"http://github.com/carbonfive/raygun\"\n",
    "url_2 = \"http://www.zombie-bites.com\"\n",
    "url_3 = \"https://www.cnet.com\""
   ]
  },
  {
   "cell_type": "code",
   "execution_count": 3,
   "metadata": {},
   "outputs": [],
   "source": [
    "def domain_name(url):\n",
    "    url = url.split('//')[-1]\n",
    "    url = url.split('/')[0]\n",
    "    url = url.split('.')[-2]\n",
    "    return url"
   ]
  },
  {
   "cell_type": "code",
   "execution_count": 4,
   "metadata": {},
   "outputs": [],
   "source": [
    "def domain_name(url):\n",
    "    return url.split(\"//\")[-1].split(\"www.\")[-1].split(\".\")[0]"
   ]
  },
  {
   "cell_type": "code",
   "execution_count": 5,
   "metadata": {},
   "outputs": [
    {
     "data": {
      "text/plain": [
       "'cnet'"
      ]
     },
     "execution_count": 5,
     "metadata": {},
     "output_type": "execute_result"
    }
   ],
   "source": [
    "domain_name(url_3)"
   ]
  },
  {
   "cell_type": "markdown",
   "metadata": {},
   "source": [
    "Challenge 2"
   ]
  },
  {
   "cell_type": "code",
   "execution_count": 14,
   "metadata": {},
   "outputs": [],
   "source": [
    "def number_joy(n):\n",
    "    list_numbers = []\n",
    "    for numbers in str(n):\n",
    "        list_numbers.append(int(numbers))\n",
    "    if n % sum(list_numbers) != 0:\n",
    "        return (False)\n",
    "    else:\n",
    "        reverse_numbers = []\n",
    "        for numbers_r in str(sum(list_numbers)):\n",
    "            reverse_numbers.append(numbers_r)\n",
    "            reverse = (list(reversed(reverse_numbers)))\n",
    "            reverse_pr = int(''.join(reverse))\n",
    "        if sum(list_numbers) * reverse_pr != n:\n",
    "            return (False)\n",
    "        else:\n",
    "            return (True)"
   ]
  },
  {
   "cell_type": "code",
   "execution_count": 15,
   "metadata": {},
   "outputs": [
    {
     "data": {
      "text/plain": [
       "False"
      ]
     },
     "execution_count": 15,
     "metadata": {},
     "output_type": "execute_result"
    }
   ],
   "source": [
    "number_joy(1998)"
   ]
  },
  {
   "cell_type": "code",
   "execution_count": 16,
   "metadata": {},
   "outputs": [],
   "source": [
    "def numberJoy(n):\n",
    "    d_sum = sum(map(int, str(n)))\n",
    "    d_sum_reverse = int(str(d_sum)[::-1])\n",
    "    \n",
    "    return n == d_sum * d_sum_reverse"
   ]
  },
  {
   "cell_type": "code",
   "execution_count": null,
   "metadata": {},
   "outputs": [],
   "source": []
  }
 ],
 "metadata": {
  "kernelspec": {
   "display_name": "Python [conda env:ironhack_env]",
   "language": "python",
   "name": "conda-env-ironhack_env-py"
  },
  "language_info": {
   "codemirror_mode": {
    "name": "ipython",
    "version": 3
   },
   "file_extension": ".py",
   "mimetype": "text/x-python",
   "name": "python",
   "nbconvert_exporter": "python",
   "pygments_lexer": "ipython3",
   "version": "3.8.5"
  }
 },
 "nbformat": 4,
 "nbformat_minor": 4
}
