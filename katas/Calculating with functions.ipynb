{
 "cells": [
  {
   "cell_type": "code",
   "execution_count": 8,
   "metadata": {},
   "outputs": [],
   "source": [
    "def zero(i = None):return 0 if i is None else int(i(0)) \n",
    "def one(i = None): return 1 if i is None else int(i(1)) \n",
    "def two(i = None): return 2 if i is None else int(i(2)) \n",
    "def three(i = None): return 3 if i is None else int(i(3)) \n",
    "def four(i = None): return 4 if i is None else int(i(4)) \n",
    "def five(i = None): return 5 if i is None else int(i(5)) \n",
    "def six(i = None): return 6 if i is None else int(i(6)) \n",
    "def seven(i = None): return 7 if i is None else int(i(7)) \n",
    "def eight(i = None): return 8 if i is None else int(i(8)) \n",
    "def nine(i = None): return 9 if i is None else int(i(9)) \n",
    "\n",
    "def plus(a): return lambda x: x + a\n",
    "def minus(a): return lambda x: x - a\n",
    "def times(a): return lambda x: x * a\n",
    "def divided_by(a): return lambda x: x / a"
   ]
  },
  {
   "cell_type": "code",
   "execution_count": 30,
   "metadata": {},
   "outputs": [
    {
     "name": "stdout",
     "output_type": "stream",
     "text": [
      "primera prueba: 35\n",
      "segunda prueba: 13\n",
      "tercera prueba: 5\n",
      "cuarta prueba: 3\n"
     ]
    }
   ],
   "source": [
    "print('primera prueba: ' + str(seven(times(five())))) # must return 35\n",
    "print('segunda prueba: ' + str(four(plus(nine())))) # must return 13\n",
    "print('tercera prueba: ' + str(eight(minus(three())))) # must return 5\n",
    "print('cuarta prueba: ' + str(six(divided_by(two())))) # must return 3"
   ]
  },
  {
   "cell_type": "code",
   "execution_count": null,
   "metadata": {},
   "outputs": [],
   "source": []
  }
 ],
 "metadata": {
  "kernelspec": {
   "display_name": "Python [conda env:ironhack_env]",
   "language": "python",
   "name": "conda-env-ironhack_env-py"
  },
  "language_info": {
   "codemirror_mode": {
    "name": "ipython",
    "version": 3
   },
   "file_extension": ".py",
   "mimetype": "text/x-python",
   "name": "python",
   "nbconvert_exporter": "python",
   "pygments_lexer": "ipython3",
   "version": "3.8.5"
  }
 },
 "nbformat": 4,
 "nbformat_minor": 4
}
